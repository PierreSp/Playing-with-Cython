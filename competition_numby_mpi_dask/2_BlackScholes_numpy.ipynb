{
 "cells": [
  {
   "cell_type": "markdown",
   "metadata": {},
   "source": [
    "# Black Scholes Exercise 2: NumPy implementation\n",
    "\n",
    "- Use numpy\n",
    "- Use cProfile and VTune to look for bottlenecks and hotspots in the code"
   ]
  },
  {
   "cell_type": "code",
   "execution_count": 1,
   "metadata": {
    "collapsed": true
   },
   "outputs": [],
   "source": [
    "# Boilerplate for the example\n",
    "\n",
    "import cProfile\n",
    "import pstats\n",
    "import numpy as np\n",
    "\n",
    "try:\n",
    "    import numpy.random_intel as rnd\n",
    "except:\n",
    "    import numpy.random as rnd\n",
    "\n",
    "# make xrange available in python 3\n",
    "try:\n",
    "    xrange\n",
    "except NameError:\n",
    "    xrange = range\n",
    "\n",
    "SEED = 7777777\n",
    "S0L = 10.0\n",
    "S0H = 50.0\n",
    "XL = 10.0\n",
    "XH = 50.0\n",
    "TL = 1.0\n",
    "TH = 2.0\n",
    "RISK_FREE = 0.1\n",
    "VOLATILITY = 0.2\n",
    "TEST_ARRAY_LENGTH = 1024\n",
    "\n",
    "###############################################\n",
    "\n",
    "def gen_data(nopt):\n",
    "    return (\n",
    "        rnd.uniform(S0L, S0H, nopt),\n",
    "        rnd.uniform(XL, XH, nopt),\n",
    "        rnd.uniform(TL, TH, nopt),\n",
    "        )\n",
    "\n",
    "nopt=100000\n",
    "price, strike, t = gen_data(nopt)\n",
    "call = np.zeros(nopt, dtype=np.float64)\n",
    "put  = -np.ones(nopt, dtype=np.float64)"
   ]
  },
  {
   "cell_type": "markdown",
   "metadata": {},
   "source": [
    "# The NumPy modified naive Black Scholes algorithm (looped)\n",
    "\n",
    "- Minimally converted code from the Naive example\n",
    "- TODO: Convert the math import to numpy variants"
   ]
  },
  {
   "cell_type": "code",
   "execution_count": 8,
   "metadata": {
    "collapsed": true
   },
   "outputs": [],
   "source": [
    "import numpy as np\n",
    "# TODO we need numpy's log, invsqrt, exp, erf\n",
    "from numpy import log, invsqrt, exp, erf\n",
    "def black_scholes(nopt, price, strike, t, rate, vol, call, put):\n",
    "    mr = -rate\n",
    "    sig_sig_two = vol * vol * 2\n",
    "    \n",
    "    for i in range(nopt):\n",
    "        P = price[i]\n",
    "        S = strike[i]\n",
    "        T = t[i]\n",
    "        \n",
    "        a = log(P / S)\n",
    "        b = T * mr\n",
    "        \n",
    "        z = T * sig_sig_two\n",
    "        c = 0.25 * z\n",
    "        y = invsqrt(z)\n",
    "        \n",
    "        w1 = (a - b + c) * y\n",
    "        w2 = (a - b - c) * y\n",
    "        \n",
    "        d1 = 0.5 + 0.5 * erf(w1)\n",
    "        d2 = 0.5 + 0.5 * erf(w2)\n",
    "        \n",
    "        Se = exp(b) * S\n",
    "        \n",
    "        call[i] = P * d1 - Se * d2\n",
    "        put[i] = call[i] - P + Se\n",
    "        #print(call,put)"
   ]
  },
  {
   "cell_type": "markdown",
   "metadata": {},
   "source": [
    "## Run timeit and/or cProfile to see what is happening"
   ]
  },
  {
   "cell_type": "code",
   "execution_count": 11,
   "metadata": {},
   "outputs": [
    {
     "name": "stdout",
     "output_type": "stream",
     "text": [
      "647 ms ± 9.55 ms per loop (mean ± std. dev. of 7 runs, 1 loop each)\n"
     ]
    }
   ],
   "source": [
    "%timeit black_scholes(nopt, price, strike, t, RISK_FREE, VOLATILITY, call, put)"
   ]
  },
  {
   "cell_type": "code",
   "execution_count": 9,
   "metadata": {
    "collapsed": true
   },
   "outputs": [
    {
     "name": "stdout",
     "output_type": "stream",
     "text": [
      "The line_profiler extension is already loaded. To reload it, use:\n",
      "  %reload_ext line_profiler\n"
     ]
    },
    {
     "data": {
      "text/plain": [
       "Timer unit: 1e-06 s\n",
       "\n",
       "Total time: 1.56723 s\n",
       "File: <ipython-input-8-170e66250949>\n",
       "Function: black_scholes at line 4\n",
       "\n",
       "Line #      Hits         Time  Per Hit   % Time  Line Contents\n",
       "==============================================================\n",
       "     4                                           def black_scholes(nopt, price, strike, t, rate, vol, call, put):\n",
       "     5         1         10.0     10.0      0.0      mr = -rate\n",
       "     6         1          8.0      8.0      0.0      sig_sig_two = vol * vol * 2\n",
       "     7                                               \n",
       "     8    100001      53544.0      0.5      3.4      for i in range(nopt):\n",
       "     9    100000      59358.0      0.6      3.8          P = price[i]\n",
       "    10    100000      55930.0      0.6      3.6          S = strike[i]\n",
       "    11    100000      55832.0      0.6      3.6          T = t[i]\n",
       "    12                                                   \n",
       "    13    100000     184005.0      1.8     11.7          a = log(P / S)\n",
       "    14    100000      60414.0      0.6      3.9          b = T * mr\n",
       "    15                                                   \n",
       "    16    100000      56459.0      0.6      3.6          z = T * sig_sig_two\n",
       "    17    100000      55234.0      0.6      3.5          c = 0.25 * z\n",
       "    18    100000     157273.0      1.6     10.0          y = invsqrt(z)\n",
       "    19                                                   \n",
       "    20    100000      74626.0      0.7      4.8          w1 = (a - b + c) * y\n",
       "    21    100000      65433.0      0.7      4.2          w2 = (a - b - c) * y\n",
       "    22                                                   \n",
       "    23    100000     179208.0      1.8     11.4          d1 = 0.5 + 0.5 * erf(w1)\n",
       "    24    100000     172405.0      1.7     11.0          d2 = 0.5 + 0.5 * erf(w2)\n",
       "    25                                                   \n",
       "    26    100000     170650.0      1.7     10.9          Se = exp(b) * S\n",
       "    27                                                   \n",
       "    28    100000      84149.0      0.8      5.4          call[i] = P * d1 - Se * d2\n",
       "    29    100000      82695.0      0.8      5.3          put[i] = call[i] - P + Se"
      ]
     },
     "metadata": {},
     "output_type": "display_data"
    }
   ],
   "source": [
    "%load_ext line_profiler\n",
    "%lprun -f black_scholes black_scholes(nopt, price, strike, t, RISK_FREE, VOLATILITY, call, put)"
   ]
  },
  {
   "cell_type": "markdown",
   "metadata": {},
   "source": [
    "## _Why does this example take longer, even with performance libraries?_"
   ]
  },
  {
   "cell_type": "markdown",
   "metadata": {},
   "source": [
    "When using NumPy, we need to unloop the function and utilize NumPy Arrays to achieve vectorization.\n",
    "\n",
    "Remove the loop and let it work on whole arrays!"
   ]
  },
  {
   "cell_type": "code",
   "execution_count": 12,
   "metadata": {
    "collapsed": true
   },
   "outputs": [],
   "source": [
    "from numpy import log, invsqrt, exp, erf\n",
    "\n",
    "def black_scholes(nopt, price, strike, t, rate, vol):\n",
    "    mr = -rate\n",
    "    sig_sig_two = vol * vol * 2\n",
    "    P = price\n",
    "    S = strike\n",
    "    T = t\n",
    "\n",
    "    a = log(P / S)\n",
    "    b = T * mr\n",
    "\n",
    "    z = T * sig_sig_two\n",
    "    c = 0.25 * z\n",
    "    y = invsqrt(z)\n",
    "\n",
    "    w1 = (a - b + c) * y\n",
    "    w2 = (a - b - c) * y\n",
    "\n",
    "    d1 = 0.5 + 0.5 * erf(w1)\n",
    "    d2 = 0.5 + 0.5 * erf(w2)\n",
    "\n",
    "    Se = exp(b) * S\n",
    "\n",
    "    call = P * d1 - Se * d2\n",
    "    put = call - P + Se\n",
    "\n",
    "    return call, put"
   ]
  },
  {
   "cell_type": "markdown",
   "metadata": {},
   "source": [
    "## Run timeit and/or cProfile to see what is happening"
   ]
  },
  {
   "cell_type": "code",
   "execution_count": 13,
   "metadata": {
    "collapsed": true
   },
   "outputs": [
    {
     "name": "stdout",
     "output_type": "stream",
     "text": [
      "3.98 ms ± 43.1 µs per loop (mean ± std. dev. of 7 runs, 100 loops each)\n"
     ]
    }
   ],
   "source": [
    "%timeit black_scholes(nopt, price, strike, t, RISK_FREE, VOLATILITY)"
   ]
  },
  {
   "cell_type": "code",
   "execution_count": 15,
   "metadata": {},
   "outputs": [
    {
     "data": {
      "text/plain": [
       "Timer unit: 1e-06 s\n",
       "\n",
       "Total time: 0.017789 s\n",
       "File: <ipython-input-12-878269c4691b>\n",
       "Function: black_scholes at line 3\n",
       "\n",
       "Line #      Hits         Time  Per Hit   % Time  Line Contents\n",
       "==============================================================\n",
       "     3                                           def black_scholes(nopt, price, strike, t, rate, vol):\n",
       "     4         1         19.0     19.0      0.1      mr = -rate\n",
       "     5         1         12.0     12.0      0.1      sig_sig_two = vol * vol * 2\n",
       "     6         1          6.0      6.0      0.0      P = price\n",
       "     7         1          5.0      5.0      0.0      S = strike\n",
       "     8         1          5.0      5.0      0.0      T = t\n",
       "     9                                           \n",
       "    10         1       5994.0   5994.0     33.7      a = log(P / S)\n",
       "    11         1       1068.0   1068.0      6.0      b = T * mr\n",
       "    12                                           \n",
       "    13         1       1160.0   1160.0      6.5      z = T * sig_sig_two\n",
       "    14         1       1022.0   1022.0      5.7      c = 0.25 * z\n",
       "    15         1       1241.0   1241.0      7.0      y = invsqrt(z)\n",
       "    16                                           \n",
       "    17         1       1358.0   1358.0      7.6      w1 = (a - b + c) * y\n",
       "    18         1       1096.0   1096.0      6.2      w2 = (a - b - c) * y\n",
       "    19                                           \n",
       "    20         1       1277.0   1277.0      7.2      d1 = 0.5 + 0.5 * erf(w1)\n",
       "    21         1       1281.0   1281.0      7.2      d2 = 0.5 + 0.5 * erf(w2)\n",
       "    22                                           \n",
       "    23         1        741.0    741.0      4.2      Se = exp(b) * S\n",
       "    24                                           \n",
       "    25         1       1254.0   1254.0      7.0      call = P * d1 - Se * d2\n",
       "    26         1        248.0    248.0      1.4      put = call - P + Se\n",
       "    27                                           \n",
       "    28         1          2.0      2.0      0.0      return call, put"
      ]
     },
     "metadata": {},
     "output_type": "display_data"
    }
   ],
   "source": [
    "%lprun -f black_scholes black_scholes(nopt, price, strike, t, RISK_FREE, VOLATILITY)"
   ]
  },
  {
   "cell_type": "markdown",
   "metadata": {},
   "source": [
    "## What does VTune show us?\n",
    "You can use the provided alias from amplxe.ipy to run VTune/amplifier."
   ]
  },
  {
   "cell_type": "code",
   "execution_count": 16,
   "metadata": {
    "collapsed": true
   },
   "outputs": [
    {
     "data": {
      "text/plain": [
       "\u001b[0;34m%\u001b[0m\u001b[0malias\u001b[0m \u001b[0mamplxe\u001b[0m \u001b[0mamplxe\u001b[0m\u001b[0;34m-\u001b[0m\u001b[0mcl\u001b[0m \u001b[0;34m-\u001b[0m\u001b[0mc\u001b[0m \u001b[0mhotspots\u001b[0m \u001b[0;34m-\u001b[0m\u001b[0mtarget\u001b[0m\u001b[0;34m-\u001b[0m\u001b[0mduration\u001b[0m\u001b[0;34m-\u001b[0m\u001b[0mtype\u001b[0m\u001b[0;34m=\u001b[0m\u001b[0mveryshort\u001b[0m \u001b[0;34m-\u001b[0m\u001b[0mq\u001b[0m \u001b[0;34m-\u001b[0m\u001b[0mr\u001b[0m \u001b[0mhs\u001b[0m\u001b[0;31m$\u001b[0m\u001b[0;31m$\u001b[0m \u001b[0;34m-\u001b[0m\u001b[0;34m-\u001b[0m \u001b[0mpython\u001b[0m \u001b[0;34m.\u001b[0m\u001b[0;34m/\u001b[0m\u001b[0;34m%\u001b[0m\u001b[0ml\u001b[0m \u001b[0;34m&\u001b[0m\u001b[0;34m&\u001b[0m \u001b[0mamplxe\u001b[0m\u001b[0;34m-\u001b[0m\u001b[0mgui\u001b[0m \u001b[0mhs\u001b[0m\u001b[0;31m$\u001b[0m\u001b[0;31m$\u001b[0m\u001b[0;34m\u001b[0m\u001b[0m\n"
      ]
     },
     "metadata": {},
     "output_type": "display_data"
    }
   ],
   "source": [
    "%pycat amplxe.ipy"
   ]
  },
  {
   "cell_type": "code",
   "execution_count": 17,
   "metadata": {
    "collapsed": true
   },
   "outputs": [],
   "source": [
    "%run amplxe.ipy"
   ]
  },
  {
   "cell_type": "code",
   "execution_count": 18,
   "metadata": {
    "collapsed": true
   },
   "outputs": [
    {
     "name": "stdout",
     "output_type": "stream",
     "text": [
      "The following commands were written to file `runme.py`:\n",
      "# Boilerplate for the example\n",
      "\n",
      "import cProfile\n",
      "import pstats\n",
      "import numpy as np\n",
      "\n",
      "try:\n",
      "    import numpy.random_intel as rnd\n",
      "except:\n",
      "    import numpy.random as rnd\n",
      "\n",
      "# make xrange available in python 3\n",
      "try:\n",
      "    xrange\n",
      "except NameError:\n",
      "    xrange = range\n",
      "\n",
      "SEED = 7777777\n",
      "S0L = 10.0\n",
      "S0H = 50.0\n",
      "XL = 10.0\n",
      "XH = 50.0\n",
      "TL = 1.0\n",
      "TH = 2.0\n",
      "RISK_FREE = 0.1\n",
      "VOLATILITY = 0.2\n",
      "TEST_ARRAY_LENGTH = 1024\n",
      "\n",
      "###############################################\n",
      "\n",
      "def gen_data(nopt):\n",
      "    return (\n",
      "        rnd.uniform(S0L, S0H, nopt),\n",
      "        rnd.uniform(XL, XH, nopt),\n",
      "        rnd.uniform(TL, TH, nopt),\n",
      "        )\n",
      "\n",
      "nopt=100000\n",
      "price, strike, t = gen_data(nopt)\n",
      "call = np.zeros(nopt, dtype=np.float64)\n",
      "put  = -np.ones(nopt, dtype=np.float64)\n",
      "import numpy as np\n",
      "# TODO we need numpy's log, invsqrt, exp, erf\n",
      "\n",
      "def black_scholes(nopt, price, strike, t, rate, vol, call, put):\n",
      "    mr = -rate\n",
      "    sig_sig_two = vol * vol * 2\n",
      "    \n",
      "    for i in range(nopt):\n",
      "        P = price[i]\n",
      "        S = strike[i]\n",
      "        T = t[i]\n",
      "        \n",
      "        a = log(P / S)\n",
      "        b = T * mr\n",
      "        \n",
      "        z = T * sig_sig_two\n",
      "        c = 0.25 * z\n",
      "        y = invsqrt(z)\n",
      "        \n",
      "        w1 = (a - b + c) * y\n",
      "        w2 = (a - b - c) * y\n",
      "        \n",
      "        d1 = 0.5 + 0.5 * erf(w1)\n",
      "        d2 = 0.5 + 0.5 * erf(w2)\n",
      "        \n",
      "        Se = exp(b) * S\n",
      "        \n",
      "        call[i] = P * d1 - Se * d2\n",
      "        put[i] = call[i] - P + Se\n",
      "        #print(call,put)\n",
      "get_ipython().run_line_magic('load_ext', 'line_profiler')\n",
      "get_ipython().run_line_magic('lprun', '-f black_scholes black_scholes(nopt, price, strike, t, RISK_FREE, VOLATILITY, call, put)')\n",
      "/usr/bin/sh: amplxe-cl: command not found\n"
     ]
    }
   ],
   "source": [
    "# save code (select the right cells!)\n",
    "%save -f runme.py 1 2 4\n",
    "# collect data\n",
    "%amplxe runme.py"
   ]
  },
  {
   "cell_type": "code",
   "execution_count": null,
   "metadata": {},
   "outputs": [],
   "source": []
  }
 ],
 "metadata": {
  "kernelspec": {
   "display_name": "Python 3",
   "language": "python",
   "name": "python3"
  },
  "language_info": {
   "codemirror_mode": {
    "name": "ipython",
    "version": 3
   },
   "file_extension": ".py",
   "mimetype": "text/x-python",
   "name": "python",
   "nbconvert_exporter": "python",
   "pygments_lexer": "ipython3",
   "version": "3.6.6"
  }
 },
 "nbformat": 4,
 "nbformat_minor": 2
}
