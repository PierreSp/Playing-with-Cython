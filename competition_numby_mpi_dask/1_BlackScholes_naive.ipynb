{
 "cells": [
  {
   "cell_type": "markdown",
   "metadata": {},
   "source": [
    "# Black Scholes Exercise 1: Naive implementation\n",
    "\n",
    "- Use cProfile and Line Profiler to look for bottlenecks and hotspots in the code"
   ]
  },
  {
   "cell_type": "code",
   "execution_count": 12,
   "metadata": {},
   "outputs": [],
   "source": [
    "# Boilerplate for the example\n",
    "\n",
    "import cProfile\n",
    "import pstats\n",
    "\n",
    "try:\n",
    "    import numpy.random_intel as rnd\n",
    "except:\n",
    "    import numpy.random as rnd\n",
    "\n",
    "# make xrange available in python 3\n",
    "try:\n",
    "    xrange\n",
    "except NameError:\n",
    "    xrange = range\n",
    "\n",
    "SEED = 7777777\n",
    "S0L = 10.0\n",
    "S0H = 50.0\n",
    "XL = 10.0\n",
    "XH = 50.0\n",
    "TL = 1.0\n",
    "TH = 2.0\n",
    "RISK_FREE = 0.1\n",
    "VOLATILITY = 0.2\n",
    "TEST_ARRAY_LENGTH = 1024\n",
    "\n",
    "###############################################\n",
    "\n",
    "def gen_data(nopt):\n",
    "    return (\n",
    "        rnd.uniform(S0L, S0H, nopt),\n",
    "        rnd.uniform(XL, XH, nopt),\n",
    "        rnd.uniform(TL, TH, nopt),\n",
    "        )\n",
    "\n",
    "nopt=100000\n",
    "price, strike, t = gen_data(nopt)\n",
    "call = [0.0 for i in range(nopt)]\n",
    "put = [-1.0 for i in range(nopt)]\n",
    "price=list(price)\n",
    "strike=list(strike)\n",
    "t=list(t)"
   ]
  },
  {
   "cell_type": "markdown",
   "metadata": {},
   "source": [
    "# The Naive Black Scholes algorithm (looped)"
   ]
  },
  {
   "cell_type": "code",
   "execution_count": 13,
   "metadata": {
    "collapsed": true
   },
   "outputs": [],
   "source": [
    "from math import log, sqrt, exp, erf\n",
    "invsqrt = lambda x: 1.0/sqrt(x)\n",
    "\n",
    "def black_scholes(nopt, price, strike, t, rate, vol, call, put):\n",
    "    mr = -rate\n",
    "    sig_sig_two = vol * vol * 2\n",
    "    \n",
    "    for i in range(nopt):\n",
    "        P = float( price [i] )\n",
    "        S = strike [i]\n",
    "        T = t [i]\n",
    "        \n",
    "        a = log(P / S)\n",
    "        b = T * mr\n",
    "        \n",
    "        z = T * sig_sig_two\n",
    "        c = 0.25 * z\n",
    "        y = invsqrt(z)\n",
    "        \n",
    "        w1 = (a - b + c) * y\n",
    "        w2 = (a - b - c) * y\n",
    "        \n",
    "        d1 = 0.5 + 0.5 * erf(w1)\n",
    "        d2 = 0.5 + 0.5 * erf(w2)\n",
    "        \n",
    "        Se = exp(b) * S\n",
    "        \n",
    "        call [i] = P * d1 - Se * d2\n",
    "        put [i] = call [i] - P + Se"
   ]
  },
  {
   "cell_type": "markdown",
   "metadata": {},
   "source": [
    "# Timeit and CProfile Tests\n",
    "\n",
    "What do you notice about the times?\n",
    "\n",
    "%timeit function(args)\n",
    "\n",
    "%prun function(args)"
   ]
  },
  {
   "cell_type": "code",
   "execution_count": 14,
   "metadata": {
    "collapsed": true
   },
   "outputs": [
    {
     "name": "stdout",
     "output_type": "stream",
     "text": [
      "212 ms ± 16.5 ms per loop (mean ± std. dev. of 7 runs, 1 loop each)\n"
     ]
    }
   ],
   "source": [
    "%timeit black_scholes(nopt, price, strike, t, RISK_FREE, VOLATILITY, call, put)"
   ]
  },
  {
   "cell_type": "code",
   "execution_count": 20,
   "metadata": {},
   "outputs": [
    {
     "name": "stdout",
     "output_type": "stream",
     "text": [
      "         600004 function calls in 0.376 seconds\n",
      "\n",
      "   Ordered by: standard name\n",
      "\n",
      "   ncalls  tottime  percall  cumtime  percall filename:lineno(function)\n",
      "   100000    0.019    0.000    0.028    0.000 <ipython-input-13-2dcd212cd4c8>:2(<lambda>)\n",
      "        1    0.267    0.267    0.376    0.376 <ipython-input-13-2dcd212cd4c8>:4(black_scholes)\n",
      "        1    0.000    0.000    0.376    0.376 <string>:1(<module>)\n",
      "        1    0.000    0.000    0.376    0.376 {built-in method builtins.exec}\n",
      "   200000    0.050    0.000    0.050    0.000 {built-in method math.erf}\n",
      "   100000    0.012    0.000    0.012    0.000 {built-in method math.exp}\n",
      "   100000    0.019    0.000    0.019    0.000 {built-in method math.log}\n",
      "   100000    0.008    0.000    0.008    0.000 {built-in method math.sqrt}\n",
      "        1    0.000    0.000    0.000    0.000 {method 'disable' of '_lsprof.Profiler' objects}\n",
      "\n",
      "\n"
     ]
    }
   ],
   "source": [
    "cProfile.run('black_scholes(nopt, price, strike, t, RISK_FREE, VOLATILITY, call, put)')"
   ]
  },
  {
   "cell_type": "code",
   "execution_count": 15,
   "metadata": {},
   "outputs": [
    {
     "name": "stdout",
     "output_type": "stream",
     "text": [
      " "
     ]
    },
    {
     "data": {
      "text/plain": [
       "         600004 function calls in 0.307 seconds\n",
       "\n",
       "   Ordered by: internal time\n",
       "\n",
       "   ncalls  tottime  percall  cumtime  percall filename:lineno(function)\n",
       "        1    0.214    0.214    0.307    0.307 <ipython-input-13-2dcd212cd4c8>:4(black_scholes)\n",
       "   200000    0.046    0.000    0.046    0.000 {built-in method math.erf}\n",
       "   100000    0.016    0.000    0.023    0.000 <ipython-input-13-2dcd212cd4c8>:2(<lambda>)\n",
       "   100000    0.015    0.000    0.015    0.000 {built-in method math.log}\n",
       "   100000    0.009    0.000    0.009    0.000 {built-in method math.exp}\n",
       "   100000    0.007    0.000    0.007    0.000 {built-in method math.sqrt}\n",
       "        1    0.000    0.000    0.307    0.307 {built-in method builtins.exec}\n",
       "        1    0.000    0.000    0.307    0.307 <string>:1(<module>)\n",
       "        1    0.000    0.000    0.000    0.000 {method 'disable' of '_lsprof.Profiler' objects}"
      ]
     },
     "metadata": {},
     "output_type": "display_data"
    }
   ],
   "source": [
    "%prun black_scholes(nopt, price, strike, t, RISK_FREE, VOLATILITY, call, put)"
   ]
  },
  {
   "cell_type": "markdown",
   "metadata": {},
   "source": [
    "# Line_Profiler tests\n",
    "\n",
    "How many times does the function items get called (hits)?"
   ]
  },
  {
   "cell_type": "code",
   "execution_count": 3,
   "metadata": {},
   "outputs": [],
   "source": [
    "%load_ext line_profiler"
   ]
  },
  {
   "cell_type": "markdown",
   "metadata": {},
   "source": [
    "%lprun -f function function(args)"
   ]
  },
  {
   "cell_type": "code",
   "execution_count": 19,
   "metadata": {},
   "outputs": [
    {
     "data": {
      "text/plain": [
       "Timer unit: 1e-06 s\n",
       "\n",
       "Total time: 1.05934 s\n",
       "File: <ipython-input-13-2dcd212cd4c8>\n",
       "Function: black_scholes at line 4\n",
       "\n",
       "Line #      Hits         Time  Per Hit   % Time  Line Contents\n",
       "==============================================================\n",
       "     4                                           def black_scholes(nopt, price, strike, t, rate, vol, call, put):\n",
       "     5         1         17.0     17.0      0.0      mr = -rate\n",
       "     6         1         10.0     10.0      0.0      sig_sig_two = vol * vol * 2\n",
       "     7                                               \n",
       "     8    100001      49642.0      0.5      4.7      for i in range(nopt):\n",
       "     9    100000      70868.0      0.7      6.7          P = float( price [i] )\n",
       "    10    100000      50343.0      0.5      4.8          S = strike [i]\n",
       "    11    100000      48071.0      0.5      4.5          T = t [i]\n",
       "    12                                                   \n",
       "    13    100000      70619.0      0.7      6.7          a = log(P / S)\n",
       "    14    100000      60490.0      0.6      5.7          b = T * mr\n",
       "    15                                                   \n",
       "    16    100000      57148.0      0.6      5.4          z = T * sig_sig_two\n",
       "    17    100000      54067.0      0.5      5.1          c = 0.25 * z\n",
       "    18    100000      80401.0      0.8      7.6          y = invsqrt(z)\n",
       "    19                                                   \n",
       "    20    100000      78735.0      0.8      7.4          w1 = (a - b + c) * y\n",
       "    21    100000      75696.0      0.8      7.1          w2 = (a - b - c) * y\n",
       "    22                                                   \n",
       "    23    100000      76401.0      0.8      7.2          d1 = 0.5 + 0.5 * erf(w1)\n",
       "    24    100000      71849.0      0.7      6.8          d2 = 0.5 + 0.5 * erf(w2)\n",
       "    25                                                   \n",
       "    26    100000      62919.0      0.6      5.9          Se = exp(b) * S\n",
       "    27                                                   \n",
       "    28    100000      76302.0      0.8      7.2          call [i] = P * d1 - Se * d2\n",
       "    29    100000      75763.0      0.8      7.2          put [i] = call [i] - P + Se"
      ]
     },
     "metadata": {},
     "output_type": "display_data"
    }
   ],
   "source": [
    "%lprun -f black_scholes black_scholes(nopt, price, strike, t, RISK_FREE, VOLATILITY, call, put)"
   ]
  },
  {
   "cell_type": "code",
   "execution_count": null,
   "metadata": {},
   "outputs": [],
   "source": []
  }
 ],
 "metadata": {
  "kernelspec": {
   "display_name": "Python 3",
   "language": "python",
   "name": "python3"
  },
  "language_info": {
   "codemirror_mode": {
    "name": "ipython",
    "version": 3
   },
   "file_extension": ".py",
   "mimetype": "text/x-python",
   "name": "python",
   "nbconvert_exporter": "python",
   "pygments_lexer": "ipython3",
   "version": "3.6.6"
  }
 },
 "nbformat": 4,
 "nbformat_minor": 2
}
